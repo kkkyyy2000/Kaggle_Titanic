{
 "cells": [
  {
   "cell_type": "markdown",
   "metadata": {},
   "source": [
    "# セットアップ"
   ]
  },
  {
   "cell_type": "code",
   "execution_count": null,
   "metadata": {},
   "outputs": [],
   "source": [
    "import numpy as np \n",
    "import pandas as pd \n",
    "import seaborn as sns\n",
    "import matplotlib.pyplot as plt\n",
    "import xgboost as xgb\n",
    "from sklearn.preprocessing import LabelEncoder, OneHotEncoder\n",
    "from sklearn.tree import DecisionTreeClassifier\n",
    "from sklearn.preprocessing import StandardScaler\n",
    "from sklearn.metrics import accuracy_score\n",
    "\n",
    "#データの読み込み\n",
    "train = pd.read_csv(\"./titanic/train.csv\")\n",
    "test = pd.read_csv(\"./titanic/test.csv\")\n",
    "\n",
    "#indexを\"PassengerId\"に設定\n",
    "train = train.set_index(\"PassengerId\")\n",
    "test = test.set_index(\"PassengerId\")"
   ]
  },
  {
   "cell_type": "markdown",
   "metadata": {},
   "source": [
    "# 学習データ、テストデータの結合"
   ]
  },
  {
   "cell_type": "code",
   "execution_count": null,
   "metadata": {},
   "outputs": [],
   "source": [
    "#train, testデータの結合\n",
    "df = pd.concat([train, test], axis=0, sort=False)"
   ]
  },
  {
   "cell_type": "markdown",
   "metadata": {},
   "source": [
    "# データの概要と欠損値の確認"
   ]
  },
  {
   "cell_type": "code",
   "execution_count": null,
   "metadata": {},
   "outputs": [],
   "source": [
    "#データの概要確認\n",
    "df.info()\n",
    "\n",
    "#欠損値確認\n",
    "df.isnull().sum()"
   ]
  },
  {
   "cell_type": "markdown",
   "metadata": {},
   "source": [
    "# 各説明変数のグループ分け、欠損値補完、ラベルエンコーディング"
   ]
  },
  {
   "cell_type": "markdown",
   "metadata": {},
   "source": [
    "## Sex"
   ]
  },
  {
   "cell_type": "code",
   "execution_count": null,
   "metadata": {},
   "outputs": [],
   "source": [
    "#\"Sex\"ラベルエンコーディング\n",
    "df[\"Sex\"] = df[\"Sex\"].map({\"female\":1, \"male\":0})\n",
    "\n",
    "#相関関係を調査\n",
    "fig, axs = plt.subplots(figsize=(10, 8))\n",
    "sns.heatmap(df.corr(),annot=True)\n",
    "plt.show()"
   ]
  },
  {
   "cell_type": "markdown",
   "metadata": {},
   "source": [
    "## Embarked"
   ]
  },
  {
   "cell_type": "code",
   "execution_count": null,
   "metadata": {},
   "outputs": [],
   "source": [
    "#\"Embarked\"ラベルエンコーディング\n",
    "#set(df[\"Embarked\"]) {'C', 'Q', 'S', nan}\n",
    "df[\"Embarked\"] = df[\"Embarked\"].map({\"C\":0, \"Q\":1, \"S\":2})\n",
    "#\"Embarked\"欠損値補完\n",
    "df[\"Embarked\"] = df[\"Embarked\"].fillna(df.Embarked.median())"
   ]
  },
  {
   "cell_type": "markdown",
   "metadata": {},
   "source": [
    "## Age"
   ]
  },
  {
   "cell_type": "code",
   "execution_count": null,
   "metadata": {},
   "outputs": [],
   "source": [
    "#\"Age\"欠損値補完\n",
    "df[\"Age\"] = df[\"Age\"].fillna(df.groupby([\"Pclass\",\"Sex\"])[\"Age\"].transform(\"mean\"))\n",
    "\n",
    "#\"Age\"可視化\n",
    "fig, axes = plt.subplots(figsize=(10, 5))\n",
    "sns.histplot(data=df, x=\"Age\")\n",
    "sns.despine()\n",
    "\n",
    "#4分割\n",
    "cut_Age = pd.cut(df[\"Age\"], 4)\n",
    "\n",
    "#\"Survived\"との比較\n",
    "fig, axs = plt.subplots()\n",
    "sns.countplot(x=cut_Age, hue=\"Survived\", data=df)\n",
    "sns.despine()\n",
    "\n",
    "#\"Age\"ラベルエンコーディング\n",
    "df['Age'] = LabelEncoder().fit_transform(cut_Age) \n",
    "\n",
    "#pandasからグラフ表示（割合）\n",
    "cross_Age = pd.crosstab(df[\"Age\"], df[\"Survived\"], normalize='index')\n",
    "cross_Age.plot.bar(figsize=(10, 5)) #stacked=True"
   ]
  },
  {
   "cell_type": "markdown",
   "metadata": {},
   "source": [
    "## Fare"
   ]
  },
  {
   "cell_type": "code",
   "execution_count": null,
   "metadata": {},
   "outputs": [],
   "source": [
    "#\"Fare\"欠損値補完\n",
    "df[\"Fare\"] = df[\"Fare\"].fillna(df.groupby([\"Pclass\", \"Sex\"])[\"Fare\"].transform(\"median\"))\n",
    "\n",
    "#4分割\n",
    "cut_Fare= pd.cut(df[\"Fare\"],4)\n",
    "\n",
    "#\"Survived\"との比較\n",
    "fig, axes = plt.subplots(figsize=(15, 5))\n",
    "sns.countplot(x=cut_Fare, hue=\"Survived\", data=df)\n",
    "sns.despine()\n",
    "\n",
    "#\"Fare\"ラベルエンコーディング\n",
    "df[\"Fare\"] = LabelEncoder().fit_transform(cut_Fare) \n",
    "\n",
    "#pandasからグラフ表示（割合）\n",
    "cross_Age = pd.crosstab(df[\"Fare\"], df[\"Survived\"], normalize='index')\n",
    "cross_Age.plot.bar(figsize=(10, 5)) #stacked=True"
   ]
  },
  {
   "cell_type": "markdown",
   "metadata": {},
   "source": [
    "## Cabin"
   ]
  },
  {
   "cell_type": "code",
   "execution_count": null,
   "metadata": {},
   "outputs": [],
   "source": [
    "#\"Cabin\"の欠損値補完と数値化\n",
    "df[\"Cabin\"] = df[\"Cabin\"].apply(lambda x: str(x)[0])\n",
    "set(df[\"Cabin\"]) #{'A', 'B', 'C', 'D', 'E', 'F', 'G', 'T', 'n'}\n",
    "\n",
    "#\"Cabin\"ごとの\"Survived\"を確認\n",
    "df.groupby(df[\"Cabin\"])[\"Survived\"].agg([\"mean\", \"count\"])\n",
    "\n",
    "#\"Cabin\"ラベルエンコーディング\n",
    "df[\"Cabin\"] = LabelEncoder().fit_transform(df[\"Cabin\"]) "
   ]
  },
  {
   "cell_type": "markdown",
   "metadata": {},
   "source": [
    "## Title"
   ]
  },
  {
   "cell_type": "code",
   "execution_count": null,
   "metadata": {},
   "outputs": [],
   "source": [
    "#Title\n",
    "#敬称の種類確認\n",
    "df[\"Title\"] = df.Name.str.extract(\"([A-Za-z]+)\\.\", expand = False)\n",
    "df[\"Title\"].value_counts()\n",
    "\n",
    "#敬称を4種類に\n",
    "other = [\"Rev\",\"Dr\",\"Major\", \"Col\", \"Capt\",\"Jonkheer\",\"Countess\"]\n",
    "\n",
    "df[\"Title\"] = df[\"Title\"].replace([\"Ms\", \"Mlle\",\"Mme\",\"Lady\"], \"Miss\")\n",
    "df[\"Title\"] = df[\"Title\"].replace([\"Countess\",\"Dona\"], \"Mrs\")\n",
    "df[\"Title\"] = df[\"Title\"].replace([\"Don\",\"Sir\"], \"Mr\")\n",
    "df[\"Title\"] = df[\"Title\"].replace(other,\"Other\")\n",
    "\n",
    "#敬称ごとの生存率を確認\n",
    "df.groupby(\"Title\").mean()[\"Survived\"]\n",
    "\n",
    "#敬称ごとの生存関係をグラフ化\n",
    "fig, axs = plt.subplots(figsize=(15, 5))\n",
    "sns.countplot(x=\"Title\", hue=\"Survived\", data=df)\n",
    "sns.despine()\n",
    "\n",
    "#\"Title\"ラベルエンコーディング\n",
    "df[\"Title\"] = LabelEncoder().fit_transform(df[\"Title\"]) \n",
    "#{\"Mr\":2, \"Mrs\":3, \"Miss\":1, \"Master\":0, \"Other\":4}　辞書順\n",
    "\n",
    "#pandasからグラフ表示（割合）\n",
    "cross_Age = pd.crosstab(df[\"Title\"], df[\"Survived\"], normalize='index')\n",
    "cross_Age.plot.bar(figsize=(10, 5)) #stacked=True"
   ]
  },
  {
   "cell_type": "markdown",
   "metadata": {},
   "source": [
    "## Ticket"
   ]
  },
  {
   "cell_type": "code",
   "execution_count": null,
   "metadata": {},
   "outputs": [],
   "source": [
    "#\"Ticket\"の数字の部分のみ取得\n",
    "df[\"Ticket\"] = df.Ticket.str.split().apply(lambda x : 0 if x[:][-1] == \"LINE\" else x[:][-1])\n",
    "df.Ticket = df.Ticket.values.astype(\"int64\")"
   ]
  },
  {
   "cell_type": "markdown",
   "metadata": {},
   "source": [
    "# Family_size説明変数を作成"
   ]
  },
  {
   "cell_type": "code",
   "execution_count": null,
   "metadata": {},
   "outputs": [],
   "source": [
    "#\"Family_size\"作成\n",
    "df[\"Family_size\"] = df[\"SibSp\"] + df[\"Parch\"]+1\n",
    "#\"SibSp\", \"Parch\"をDataFrameから削除\n",
    "df = df.drop([\"SibSp\",\"Parch\"], axis = 1)\n",
    "\n",
    "#家族数ごとの生存関係をグラフ化\n",
    "fig, axs = plt.subplots(figsize=(15, 5))\n",
    "sns.countplot(x=\"Family_size\", hue=\"Survived\", data=df)\n",
    "sns.despine()\n",
    "\n",
    "#\"Family_size\"ラベルエンコーディング\n",
    "df.loc[ df[\"Family_size\"] == 1, \"Family_size\"] = 0                            #独り身\n",
    "df.loc[(df[\"Family_size\"] > 1) & (df[\"Family_size\"] <= 4), \"Family_size\"] = 1  #小家族\n",
    "df.loc[(df[\"Family_size\"] > 4) & (df[\"Family_size\"] <= 6), \"Family_size\"] = 2  #中家族\n",
    "df.loc[df[\"Family_size\"]  > 6, \"Family_size\"] = 3                             #大家族\n",
    "\n",
    "#ラベルエンコーディング後、改めてグラフ化\n",
    "fig, axs = plt.subplots(figsize=(15, 5))\n",
    "sns.countplot(x=\"Family_size\", hue=\"Survived\", data=df)\n",
    "sns.despine() \n",
    "\n",
    "#pandasからグラフ表示（割合）\n",
    "cross_Age = pd.crosstab(df[\"Family_size\"], df[\"Survived\"], normalize='index')\n",
    "cross_Age.plot.bar(figsize=(10, 5)) #stacked=True"
   ]
  },
  {
   "cell_type": "markdown",
   "metadata": {},
   "source": [
    "# 説明変数を作成（家族データ深掘り）"
   ]
  },
  {
   "cell_type": "code",
   "execution_count": null,
   "metadata": {},
   "outputs": [],
   "source": [
    "#3つの変数をグループ分けして生存率と、生と死を合わせた総人数を調査\n",
    "s_mean = df.rename(columns={\"Survived\" : \"S_mean\"})\n",
    "s_count = df.rename(columns={\"Survived\" : \"S_count\"})\n",
    "s_mean = s_mean.groupby([\"Sex\", \"Age\", \"Family_size\"]).mean()[\"S_mean\"]\n",
    "s_count = s_count.groupby([\"Sex\", \"Age\", \"Family_size\"]).count()[\"S_count\"]\n",
    "pd.concat([s_mean, s_count], axis=1)\n",
    "\n",
    "#4つの変数をグループ分けして生存率と、生と死を合わせた総人数を調査（男性）\n",
    "m_s_mean = df.rename(columns={\"Survived\" : \"S_mean\"})\n",
    "m_s_count = df.rename(columns={\"Survived\" : \"S_count\"})\n",
    "m_s_mean = m_s_mean.groupby([\"Sex\", \"Age\", \"Family_size\", \"Pclass\"]).mean().head(29)[\"S_mean\"]\n",
    "m_s_count = m_s_count.groupby([\"Sex\", \"Age\", \"Family_size\", \"Pclass\"]).count().head(29)[\"S_count\"]\n",
    "pd.concat([m_s_mean, m_s_count], axis=1)\n",
    "\n",
    "#4つの変数をグループ分けして生存率と、生と死を合わせた総人数を調査（女性）\n",
    "w_s_mean = df.rename(columns={\"Survived\" : \"S_mean\"})\n",
    "w_s_count = df.rename(columns={\"Survived\" : \"S_count\"})\n",
    "w_s_mean = w_s_mean.groupby([\"Sex\", \"Age\", \"Family_size\", \"Pclass\"]).mean().tail(31)[\"S_mean\"]\n",
    "w_s_count = w_s_count.groupby([\"Sex\", \"Age\", \"Family_size\", \"Pclass\"]).count().tail(31)[\"S_count\"]\n",
    "pd.concat([w_s_mean, w_s_count], axis=1)\n",
    "\n",
    "#F_S_Suc\n",
    "#女性または子どもの家族の生存率を表す説明変数\"F_S_Suc\"作成\n",
    "#\"Name\"の最初を取得\n",
    "df[\"TopName\"] = df[\"Name\"].map(lambda name:name.split(\",\")[0].strip())\n",
    "\n",
    "#女性または子どもはTrue\n",
    "df[\"W_C\"] = ((df.Title == 0) | (df.Sex == 1))\n",
    "#女性または子ども以外はTrue\n",
    "df[\"M\"] = ~((df.Title == 0) | (df.Sex == 1))\n",
    "\n",
    "#具体的な家族の生存データ\n",
    "family = df.groupby([\"TopName\", \"Pclass\"])[\"Survived\"]\n",
    "\n",
    "df[\"F_Total\"] = family.transform(lambda s: s.fillna(0).count())\n",
    "df[\"F_Total\"] = df[\"F_Total\"].mask(df[\"W_C\"], (df[\"F_Total\"] - 1), axis=0)\n",
    "df[\"F_Total\"] = df[\"F_Total\"].mask(df[\"M\"], (df[\"F_Total\"] - 1), axis=0)\n",
    "\n",
    "df[\"F_Survived\"] = family.transform(lambda s: s.fillna(0).sum())\n",
    "df[\"F_Survived\"] = df[\"F_Survived\"].mask(df[\"W_C\"], df[\"F_Survived\"] - df[\"Survived\"].fillna(0), axis=0)\n",
    "df[\"F_Survived\"] = df[\"F_Survived\"].mask(df[\"M\"], df[\"F_Survived\"] - df[\"Survived\"].fillna(0), axis=0)\n",
    "\n",
    "df[\"F_S_Suc\"] = (df[\"F_Survived\"] / df[\"F_Total\"].replace(0, np.nan))\n",
    "df[\"F_S_Suc\"].fillna(-1, inplace = True)\n",
    "\n",
    "#女性または子ども(True)とそれ以外の人(False)の生存率と生と死を合わせた総人数を調査（家族の生存率ごと）\n",
    "s_df = df.groupby([\"F_S_Suc\", \"W_C\"])[\"Survived\"].agg([\"mean\", \"count\"])\n",
    "s_df\n",
    "\n",
    "#\"F_S_Suc\"の計算で使用した説明変数の削除\n",
    "df.drop([\"TopName\", \"W_C\", \"M\", \"F_Total\",\"F_Survived\"], axis = 1, inplace = True)\n"
   ]
  },
  {
   "cell_type": "markdown",
   "metadata": {},
   "source": [
    "# 前処理2（説明変数選別、ダミー変数化、標準化、データ分割）"
   ]
  },
  {
   "cell_type": "code",
   "execution_count": null,
   "metadata": {},
   "outputs": [],
   "source": [
    "#欠損値の確認\n",
    "df.isnull().sum()\n",
    "\n",
    "#説明変数選別\n",
    "df[\"PassengerId\"] = df.index\n",
    "df.drop([\"Name\",\"Embarked\",\"Title\", \"Cabin\"], axis=1, inplace=True)\n",
    "\n",
    "#ダミー変数化\n",
    "df = pd.get_dummies(df, columns=[\"Sex\"], drop_first=True)\n",
    "df = pd.get_dummies(df, columns=[\"Pclass\", \"Fare\"])\n",
    "\n",
    "#\"Ticket\"のみ標準化\n",
    "num_features = [\"Ticket\"]\n",
    "for col in num_features:\n",
    "    scaler = StandardScaler()\n",
    "    df[col] = scaler.fit_transform(np.array(df[col].values).reshape(-1, 1))\n",
    "\n",
    "#元の形に戻す（train, testデータの形に）\n",
    "train, test = df.loc[train.index], df.loc[test.index]\n",
    "#学習用データ\n",
    "x_train = train.drop([\"PassengerId\",\"Survived\"], axis = 1)\n",
    "y_train = train[\"Survived\"]\n",
    "train_names = x_train.columns\n",
    "#テスト用データ\n",
    "x_test = test.drop([\"PassengerId\",\"Survived\"], axis = 1)"
   ]
  },
  {
   "cell_type": "markdown",
   "metadata": {},
   "source": [
    "# モデルを構築（決定木, xgboost）、学習、評価"
   ]
  },
  {
   "cell_type": "markdown",
   "metadata": {},
   "source": [
    "## 決定木"
   ]
  },
  {
   "cell_type": "code",
   "execution_count": null,
   "metadata": {},
   "outputs": [],
   "source": [
    "#決定木\n",
    "decision_tree = DecisionTreeClassifier(random_state=0, max_depth=3)\n",
    "#学習\n",
    "decision_tree.fit(x_train, y_train)\n",
    "#推論\n",
    "y_pred = decision_tree.predict(x_train)\n",
    "\n",
    "#正解率： 0.8125701459034792\n",
    "print(\"正解率：\", accuracy_score(y_train, y_pred))\n",
    "\n",
    "#提出データ1\n",
    "y_pred = decision_tree.predict(x_test)\n",
    "\n",
    "#説明変数の重要度をグラフで表示（決定木）\n",
    "importances = pd.DataFrame(decision_tree.feature_importances_, index = train_names)\n",
    "importances.sort_values(by = 0, inplace=True, ascending = False)\n",
    "importances = importances.iloc[0:6,:] \n",
    "plt.figure(figsize=(8, 5)) \n",
    "sns.barplot(x=0, y=importances.index, data=importances,palette=\"deep\").set_title(\"Feature Importances\",\n",
    "                                                                                 fontdict= { 'fontsize': 20,\n",
    "                                                                                            'fontweight':'bold'});\n",
    "sns.despine()"
   ]
  },
  {
   "cell_type": "markdown",
   "metadata": {},
   "source": [
    "## xgboost"
   ]
  },
  {
   "cell_type": "code",
   "execution_count": null,
   "metadata": {},
   "outputs": [],
   "source": [
    "#xgboost\n",
    "dtrain = xgb.DMatrix(x_train, label=y_train)\n",
    "dtest = xgb.DMatrix(x_test)\n",
    "#パラメータ\n",
    "params = {'colsample_bytree': 0.5, \n",
    "         'learning_rate': 0.1, \n",
    "         'max_depth': 3, \n",
    "         'subsample': 0.9, \n",
    "         \"objective\":\"multi:softmax\", \n",
    "         \"num_class\":2}\n",
    "#学習\n",
    "bst = xgb.train(\n",
    "    params, \n",
    "    dtrain, \n",
    "    num_boost_round=10)\n",
    "\n",
    "#推論\n",
    "y_pred_2 = bst.predict(dtrain)\n",
    "\n",
    "#正解率： 0.8215488215488216\n",
    "print(\"正解率：\",accuracy_score(y_train, y_pred_2))\n",
    "\n",
    "#提出データ2\n",
    "y_pred_2 = bst.predict(dtest)\n",
    "\n",
    "#説明変数の重要度をグラフで表示（xgboost）\n",
    "fig, ax = plt.subplots(figsize=(12, 4))\n",
    "\"\"\"\n",
    "mapper = {'f{0}'.format(i): v for i, v in enumerate(train_names)}\n",
    "mapped = {mapper[k]: v for k, v in bst.get_score(importance_type=\"gain\").items()}\n",
    "\n",
    "xgb.plot_importance(mapped,\n",
    "                    ax=ax, \n",
    "                    show_values=False)\n",
    "\"\"\"\n",
    "xgb.plot_importance(bst,\n",
    "                    ax=ax, \n",
    "                    show_values=False, \n",
    "                    importance_type=\"gain\")\n",
    "plt.show()"
   ]
  },
  {
   "cell_type": "markdown",
   "metadata": {},
   "source": [
    "# 提出フォーマットに整形"
   ]
  },
  {
   "cell_type": "code",
   "execution_count": null,
   "metadata": {},
   "outputs": [],
   "source": [
    "#submit用のファイル１を作成(決定木)\n",
    "submit = pd.DataFrame({\"PassengerId\":test[\"PassengerId\"], \"Survived\":y_pred.astype(int).ravel()})\n",
    "submit.to_csv(\"./answer_xgb_2022_05_19.csv\",index = False)\n",
    "\n",
    "#submit用のファイル２を作成(xgboost)\n",
    "submit = pd.DataFrame({\"PassengerId\":test[\"PassengerId\"], \"Survived\":y_pred_2.astype(int).ravel()})\n",
    "submit.to_csv(\"./answer_tree_2022_05_19.csv\",index = False)"
   ]
  },
  {
   "cell_type": "markdown",
   "metadata": {},
   "source": []
  }
 ],
 "metadata": {
  "language_info": {
   "name": "python"
  },
  "orig_nbformat": 4
 },
 "nbformat": 4,
 "nbformat_minor": 2
}
